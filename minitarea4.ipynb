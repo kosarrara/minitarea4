{
  "nbformat": 4,
  "nbformat_minor": 0,
  "metadata": {
    "colab": {
      "name": "Actividad 4 - Extragaláctico.ipynb",
      "version": "0.3.2",
      "provenance": [],
      "include_colab_link": true
    },
    "kernelspec": {
      "name": "python2",
      "display_name": "Python 2"
    }
  },
  "cells": [
    {
      "cell_type": "markdown",
      "metadata": {
        "id": "view-in-github",
        "colab_type": "text"
      },
      "source": [
        "<a href=\"https://colab.research.google.com/github/kosarrara/minitarea4/blob/master/minitarea4.ipynb\" target=\"_parent\"><img src=\"https://colab.research.google.com/assets/colab-badge.svg\" alt=\"Open In Colab\"/></a>"
      ]
    },
    {
      "metadata": {
        "id": "2btHIAg5WJh_",
        "colab_type": "text"
      },
      "cell_type": "markdown",
      "source": [
        "#EI2001 : Ciencia de Datos en Astronomía\n",
        "**Profesores:** Pía Cortés, Daniela Barrientos, Matías Mattamala, Matías Suazo\n",
        "\n",
        "##Minitarea 4: Análisis de Cubo de datos extragaláctico y querys.\n",
        "\n",
        "###Objetivos:\n",
        "1. Utilizar el paquete **astropy** para trabajar con unidades de medidas, coordenadas y fits.\n",
        "2. Utilizar datos del google drive personal de cada uno.\n",
        "3. Lectura de archivos *fits* en objetos extragalácticos en forma de cubo de datos.\n",
        "4. Utilizar el paquete **astroquery** para hacer query de objetos del SDSS.\n",
        "\n"
      ]
    },
    {
      "metadata": {
        "id": "yeJpfPmsJhZb",
        "colab_type": "text"
      },
      "cell_type": "markdown",
      "source": [
        "###Instrucciones:\n",
        "\n",
        "1. Lean cuidadosamente todo lo que viene ahora\n",
        "2. Para hacer esta tarea deben que hacer un **fork** del repositorio en sus cuentas de GitHub.\n",
        "3. Abrir [Google Colab](https://colab.research.google.com/) y seleccionar \"abrir un archivo desde GitHub\". Deben seleccionar su cuenta Github y escoger el repositorio que corresponde al fork que hicieron.\n",
        "4. Si todo sale bien, debería abrirse una copia de este notebook en su cuenta de Google Colab.\n",
        "5. Se adjuntan 6 mini actividades a completar. **TODAS** son necesarias y deben completar lo que se va pidiendo.\n",
        "6. Cada vez que completen un ítem, deben guardar un avance en su fork de GitHub, de modo de **respaldar cada avance significativo**. Usen comentarios coherentes con cada respaldo \"Sección 1 completa\", \"Tarea terminada\", no solamente el que pone por defecto.\n",
        "\n",
        "\n"
      ]
    },
    {
      "metadata": {
        "id": "_Gu80PUvKfyP",
        "colab_type": "text"
      },
      "cell_type": "markdown",
      "source": [
        "#1. FITS en Google Drive.\n",
        "\n",
        "En el siguiente enlace [(link)](https://docs.google.com/spreadsheets/d/1lT4h9Evwm6i2SBeuCK5dESTm8FijVZX7r6ixq-dt3ZM/edit#gid=0) se encuentra un excel con 30 galaxias observadas con CALIFA usando la técnica de Integral Field Spectroscopy (IFS). Debe escoger una galaxia que se encuentre disponible anotando su nombre en la casilla correspondiente a la galaxia que desee escoger (**No puede elegir una ya escojida por alguien más**). A cada galaxia le corresponde un link con el cual se pueden descargar los datos obtenidos por CALIFA para dicha galaxia en un cubo de datos **fits.gz**.\n",
        "\n",
        "Descargue el archivo correspondiente y súbalo a la cuenta de Google Drive vinculada con la cuenta de Google que utiliza para trabajar con [Google Colab](https://colab.research.google.com/). Asegúrese que el archivo de descarga corresponde con la galaxia seleccionada, en caso contrario hágalo saber al equipo docente.\n",
        "\n",
        "Ahora importe los paquetes y funciones necesarias vistas en clases para poder montar su unidad de Google drive. Si lo hace correctamente debiese aparecer un mensaje. Verifique que se muestra al correr esas líneas de código."
      ]
    },
    {
      "metadata": {
        "id": "HTnTHCBzUUx3",
        "colab_type": "code",
        "colab": {
          "base_uri": "https://localhost:8080/",
          "height": 129
        },
        "outputId": "8cc35159-56db-4250-e168-6d0366e312a2"
      },
      "cell_type": "code",
      "source": [
        "import numpy as np\n",
        "import matplotlib.pyplot as plt\n",
        "from astropy import units as u\n",
        "from astropy.coordinates import SkyCoord\n",
        "from google.colab import drive\n",
        "from astropy.io import fits\n",
        "from astropy.wcs import WCS\n",
        "drive.mount(\"/content/gdrive\")"
      ],
      "execution_count": 2,
      "outputs": [
        {
          "output_type": "stream",
          "text": [
            "Go to this URL in a browser: https://accounts.google.com/o/oauth2/auth?client_id=947318989803-6bn6qk8qdgf4n4g3pfee6491hc0brc4i.apps.googleusercontent.com&redirect_uri=urn%3Aietf%3Awg%3Aoauth%3A2.0%3Aoob&scope=email%20https%3A%2F%2Fwww.googleapis.com%2Fauth%2Fdocs.test%20https%3A%2F%2Fwww.googleapis.com%2Fauth%2Fdrive%20https%3A%2F%2Fwww.googleapis.com%2Fauth%2Fdrive.photos.readonly%20https%3A%2F%2Fwww.googleapis.com%2Fauth%2Fpeopleapi.readonly&response_type=code\n",
            "\n",
            "Enter your authorization code:\n",
            "··········\n",
            "Mounted at /content/gdrive\n"
          ],
          "name": "stdout"
        }
      ]
    },
    {
      "metadata": {
        "id": "3dRBo_5rVaIc",
        "colab_type": "text"
      },
      "cell_type": "markdown",
      "source": [
        "# 2. Visualización de la Galaxia \n",
        "\n",
        "En esta parte debe hacer lectura del cubo de datos **fits.gz** que se encuentra guardado en su Google Drive. Importe todos los paquetes que sean necesarios, no olvide leer el header (Ya sea en su forma normal o en WCS) e imprímalo en pantalla."
      ]
    },
    {
      "metadata": {
        "id": "CGvtX_eLVpRg",
        "colab_type": "code",
        "colab": {
          "base_uri": "https://localhost:8080/",
          "height": 201
        },
        "outputId": "f4bc0e9b-1fbd-4537-8c22-85b3d3a9ebd0"
      },
      "cell_type": "code",
      "source": [
        "filename=(\"/content/gdrive/My Drive/Tareas/NGC7824.V500.rscube.fits.gz\")\n",
        "hdu_fits=fits.open(filename)\n",
        "hdu=fits.open(filename)[0]\n",
        "header=hdu.header\n",
        "wcs=WCS(header)\n",
        "wcs"
      ],
      "execution_count": 3,
      "outputs": [
        {
          "output_type": "execute_result",
          "data": {
            "text/plain": [
              "WCS Keywords\n",
              "\n",
              "Number of WCS axes: 3\n",
              "CTYPE : 'RA---TAN'  'DEC--TAN'  'WAVELENGTH'  \n",
              "CRVAL : 1.275811330392791  6.919860308685241  3749.0  \n",
              "CRPIX : 32.0  36.0  1.0  \n",
              "CD1_1 CD1_2 CD1_3  : -0.00027777777777777  0.0  0.0  \n",
              "CD2_1 CD2_2 CD2_3  : 0.0  0.000277777777777777  0.0  \n",
              "CD3_1 CD3_2 CD3_3  : 0.0  0.0  2.0  \n",
              "NAXIS : 83  72  1877"
            ]
          },
          "metadata": {
            "tags": []
          },
          "execution_count": 3
        }
      ]
    },
    {
      "metadata": {
        "id": "FPoTRrVsXK-i",
        "colab_type": "text"
      },
      "cell_type": "markdown",
      "source": [
        "Ahora haga un subplot que contemple 4 imágenes de la galaxia en 4 diferentes longitudes de onda de todo el espectro observado. Usted debe escoger estas cuatro longitudes de onda como se le antoje. Puede enchular los gráficos tanto como desee, es importante eso sí que todos contengan la información básica necesaria para que pueda ser visualizada científicamente. Recuerde importar los paquetes necesarios en caso de no haberlo hecho en algún bloque anterior.\n",
        "\n",
        "**Consejo**: Dentro de las longitudes de onda, se sugiere que escoja una cercana a los 6563 Angstrom."
      ]
    },
    {
      "metadata": {
        "id": "s98YFlc6qGcC",
        "colab_type": "code",
        "colab": {
          "base_uri": "https://localhost:8080/",
          "height": 394
        },
        "outputId": "ce81d9bf-1bbc-4433-d15a-5979321f570d"
      },
      "cell_type": "code",
      "source": [
        "data=hdu.data\n",
        "units=header[\"HIERARCH PIPE UNITS\"]\n",
        "initialWaveLengh=header[\"CRVAL3\"]*u.AA\n",
        "stepWaveLengh=header[\"CD3_3\"]*u.AA\n",
        "finalWaveLengh=initialWaveLengh+stepWaveLengh*(header[\"NAXIS3\"])\n",
        "k=1400\n",
        "WaveLenghActual=initialWaveLengh+stepWaveLengh*k\n",
        "plt.imshow(data[k],cmap=\"inferno\", origin=\"lower\",vmin=0)\n",
        "cb=plt.colorbar()\n",
        "cb.set_label(\"Flujo de \"+units)\n",
        "plt.title(\"Galaxia en longitud de onda: \"+str(WaveLenghActual) )\n",
        "\n",
        "#COORDENADAS AND STUFF DE LOS EJES X E Y\n",
        "#COORDENADAS EJE X\n",
        "RA_inicio=header[\"CRVAL1\"]\n",
        "RA_step=header[\"CD1_1\"]\n",
        "RA_fin=RA_inicio+RA_step*(header[\"NAXIS1\"])\n",
        "RA=RA_inicio+np.arange(0,header[\"NAXIS1\"])*RA_step\n",
        "plt.xticks((0,20,60,40,80), (round(RA[0],3),round(RA[20],3),round(RA[40],3),round(RA[60],3),round(RA[80],3)))\n",
        "plt.xlabel(\"RA [deg]\")\n",
        "\n",
        "#COORDENADAS EJE Y\n",
        "DEC_inicio=header[\"CRVAL2\"]\n",
        "DEC_step=header[\"CD2_2\"]\n",
        "DEC_fin=DEC_inicio+DEC_step*(header[\"NAXIS2\"])\n",
        "DEC=DEC_inicio+DEC_step*np.arange(0,header[\"NAXIS2\"])\n",
        "plt.yticks((0,20,40,60),(round(DEC[0],3),round(DEC[20],3),round(DEC[40],3),round(DEC[60],3)))\n",
        "plt.ylabel(\"DEC [deg]\")"
      ],
      "execution_count": 21,
      "outputs": [
        {
          "output_type": "execute_result",
          "data": {
            "text/plain": [
              "Text(0,0.5,'DEC [deg]')"
            ]
          },
          "metadata": {
            "tags": []
          },
          "execution_count": 21
        },
        {
          "output_type": "display_data",
          "data": {
            "image/png": "[encoded data removed]",
            "text/plain": [
              "<Figure size 576x396 with 2 Axes>"
            ]
          },
          "metadata": {
            "tags": []
          }
        }
      ]
    },
    {
      "metadata": {
        "id": "laGyqlSaK-zp",
        "colab_type": "text"
      },
      "cell_type": "markdown",
      "source": [
        "#3. Espectros de la Galaxia\n",
        "\n",
        "Como saben, a cada pixel le corresponde un espectro. Ahora haga un subplot que contemple el espectro de 9 pixeles de la galaxia. 8 de los 9 pixeles deben ser escogidos al azar, mientras que uno de ellos debe corresponder al espectro de los pixeles de referencia que el header indica. Puede enchular los gráficos tanto como desee, es importante eso sí que todos contengan la información básica necesaria para que pueda ser visualizada científicamente. Recuerde importar los paquetes necesarios en caso de no haberlo hecho en algún bloque anterior.\n",
        "\n",
        "Finalmente calcule el redshift al cual se encuentra el objeto, para ello puede indentificar las líneas de los espectros obtenidos en esta [página](http://skyserver.sdss.org/dr15/en/tools/chart/navi.aspx). El cálculo del redshift debe hacerse con la información de los espectros del fits. Ignore la rotación de la galaxia. \n",
        "\n",
        "**Hint:** Le puede ser útil saber que la línea de H$\\alpha$ se encuentra centrada en 6563 Angstroms. La longitud de onda de las primeras líneas de la serie de Balmer las puede encontrar en [aquí](https://es.wikipedia.org/wiki/L%C3%ADneas_de_Balmer). Imprima en pantalla la operación a realizar y que línea o líneas usó para determinar el redshift al cual se encuentra la galaxia."
      ]
    },
    {
      "metadata": {
        "id": "inm_DLjOK7ul",
        "colab_type": "code",
        "colab": {}
      },
      "cell_type": "code",
      "source": [
        ""
      ],
      "execution_count": 0,
      "outputs": []
    },
    {
      "metadata": {
        "id": "aVFBwLo3Oe3V",
        "colab_type": "text"
      },
      "cell_type": "markdown",
      "source": [
        "#4. Coordenadas\n",
        "\n",
        "En esta parte deben crear una variable que contenga un objeto SkyCoord definido con los dos últimos dígitos de rut como ascención recta y declinación en el sistema ICRS (No contar el dígito verificador).\n",
        "\n",
        "**Ejemplo:** si su RUT es 12.345.678 - 9. La ascención recta y declinación para ese objeto debe ser 78°. Si los úlitmos dos dígitos son mayores que noventa, utilice solo el último."
      ]
    },
    {
      "metadata": {
        "id": "_qHOe4Ypi8p1",
        "colab_type": "code",
        "colab": {}
      },
      "cell_type": "code",
      "source": [
        ""
      ],
      "execution_count": 0,
      "outputs": []
    },
    {
      "metadata": {
        "id": "K8AmrG93ZVxP",
        "colab_type": "text"
      },
      "cell_type": "markdown",
      "source": [
        "#5. Query: Imagen\n",
        "\n",
        "En esta parte haga un query a los datos del SDSS utilizando como coordenadas las definidas anteriormente en una región de radio 10 arcsec, además, asegúrese que los objetos de la busqueda cuentan con un espectro. En caso de no encontrar algo, multiplique el radio por 2 hasta encontrar un objeto. Extraiga el espectro y la fotometría en las bandas z e i.\n",
        "\n",
        "Imprima en pantalla el WCS header de alguno de los fits fotometría, y proceda a graficar las regiones mostradas en los dos fits fotométricos descargados. Puede enchular los gráficos tanto como desee, es importante eso sí que todos contengan la información básica necesaria para que pueda ser visualizada científicamente. Como los datos son del SDSS, ustedes encontraran una imagen de la placa entera, hagan un zoom mostrando de forma cercana el objeto que les debiese haber salido al azar, queda a su criterio cuanto deben ampliar la imagen ustedes."
      ]
    },
    {
      "metadata": {
        "id": "hqnyKnO2i9U0",
        "colab_type": "code",
        "colab": {}
      },
      "cell_type": "code",
      "source": [
        ""
      ],
      "execution_count": 0,
      "outputs": []
    },
    {
      "metadata": {
        "id": "mI08c4RofCkz",
        "colab_type": "text"
      },
      "cell_type": "markdown",
      "source": [
        "#6. Query: Espectro\n",
        "\n",
        "En esta parte haga un gráfico con los datos espectroscópicos del objeto encontrado. Imprima en pantalla el WCS header. Puede enchular los gráficos tanto como desee, es importante eso sí que todos contengan la información básica necesaria para que pueda ser visualizada científicamente. Compare el objeto con el encontrado en esta [página](http://skyserver.sdss.org/dr15/en/tools/chart/navi.aspx), identifique las líneas y hagan que se vean en el espectro bien señalizadas."
      ]
    },
    {
      "metadata": {
        "id": "30iDcoQrfBEr",
        "colab_type": "code",
        "colab": {}
      },
      "cell_type": "code",
      "source": [
        ""
      ],
      "execution_count": 0,
      "outputs": []
    }
  ]
}